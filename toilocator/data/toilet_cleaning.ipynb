{
 "cells": [
  {
   "cell_type": "code",
   "execution_count": 2,
   "metadata": {},
   "outputs": [],
   "source": [
    "import pandas as pd\n"
   ]
  },
  {
   "cell_type": "code",
   "execution_count": 4,
   "metadata": {},
   "outputs": [
    {
     "data": {
      "text/html": [
       "<div>\n",
       "<style scoped>\n",
       "    .dataframe tbody tr th:only-of-type {\n",
       "        vertical-align: middle;\n",
       "    }\n",
       "\n",
       "    .dataframe tbody tr th {\n",
       "        vertical-align: top;\n",
       "    }\n",
       "\n",
       "    .dataframe thead th {\n",
       "        text-align: right;\n",
       "    }\n",
       "</style>\n",
       "<table border=\"1\" class=\"dataframe\">\n",
       "  <thead>\n",
       "    <tr style=\"text-align: right;\">\n",
       "      <th></th>\n",
       "      <th>web-scraper-order</th>\n",
       "      <th>web-scraper-start-url</th>\n",
       "      <th>type</th>\n",
       "      <th>image_link</th>\n",
       "      <th>image_link-href</th>\n",
       "      <th>award</th>\n",
       "      <th>address</th>\n",
       "      <th>toilet_name</th>\n",
       "      <th>district_name</th>\n",
       "    </tr>\n",
       "  </thead>\n",
       "  <tbody>\n",
       "    <tr>\n",
       "      <th>0</th>\n",
       "      <td>1647935913-3904</td>\n",
       "      <td>https://www.toilet.org.sg/loomapdirectory</td>\n",
       "      <td>Dormitory</td>\n",
       "      <td>Unison Construction Dormitory</td>\n",
       "      <td>https://www.toilet.org.sg/gallery/201/5-star-t...</td>\n",
       "      <td>&lt;font color=\"#F7C709\"&gt;&lt;i class=\"fa fa-star\"&gt;&lt;/...</td>\n",
       "      <td>6 Tuas Basin Link, S(638760)</td>\n",
       "      <td>Unison Construction Dormitory</td>\n",
       "      <td>South West District</td>\n",
       "    </tr>\n",
       "    <tr>\n",
       "      <th>1</th>\n",
       "      <td>1647935913-3874</td>\n",
       "      <td>https://www.toilet.org.sg/loomapdirectory</td>\n",
       "      <td>MRT Station</td>\n",
       "      <td>Dakota MRT Station</td>\n",
       "      <td>https://www.toilet.org.sg/gallery/143/4-star-t...</td>\n",
       "      <td>&lt;font color=\"#F7C709\"&gt;&lt;i class=\"fa fa-star\"&gt;&lt;/...</td>\n",
       "      <td>201 Airport Road, S(397973)</td>\n",
       "      <td>Dakota MRT Station</td>\n",
       "      <td>South East District</td>\n",
       "    </tr>\n",
       "    <tr>\n",
       "      <th>2</th>\n",
       "      <td>1647935913-3895</td>\n",
       "      <td>https://www.toilet.org.sg/loomapdirectory</td>\n",
       "      <td>Bus Interchange</td>\n",
       "      <td>Bukit  Batok Bus Interchange</td>\n",
       "      <td>https://www.toilet.org.sg/gallery/397/5-star-t...</td>\n",
       "      <td>&lt;font color=\"#F7C709\"&gt;&lt;i class=\"fa fa-star\"&gt;&lt;/...</td>\n",
       "      <td>631 Bukit Batok Central, S(650631)</td>\n",
       "      <td>Bukit  Batok Bus Interchange</td>\n",
       "      <td>South West District</td>\n",
       "    </tr>\n",
       "    <tr>\n",
       "      <th>3</th>\n",
       "      <td>1647935913-3641</td>\n",
       "      <td>https://www.toilet.org.sg/loomapdirectory</td>\n",
       "      <td>Bus Interchange</td>\n",
       "      <td>Harbourfront Bus Terminal</td>\n",
       "      <td>https://www.toilet.org.sg/gallery/302/4-star-t...</td>\n",
       "      <td>&lt;font color=\"#F7C709\"&gt;&lt;i class=\"fa fa-star\"&gt;&lt;/...</td>\n",
       "      <td>4 Seah Im Road, S(099115)</td>\n",
       "      <td>Harbourfront Bus Terminal</td>\n",
       "      <td>Central District</td>\n",
       "    </tr>\n",
       "    <tr>\n",
       "      <th>4</th>\n",
       "      <td>1647935913-3857</td>\n",
       "      <td>https://www.toilet.org.sg/loomapdirectory</td>\n",
       "      <td>Shopping Centre</td>\n",
       "      <td>Vista Point</td>\n",
       "      <td>https://www.toilet.org.sg/gallery/127/3-star-t...</td>\n",
       "      <td>&lt;font color=\"#F7C709\"&gt;&lt;i class=\"fa fa-star\"&gt;&lt;/...</td>\n",
       "      <td>Blk 548 Woodlands Drive 44, S(730548)</td>\n",
       "      <td>Vista Point</td>\n",
       "      <td>North West District</td>\n",
       "    </tr>\n",
       "  </tbody>\n",
       "</table>\n",
       "</div>"
      ],
      "text/plain": [
       "  web-scraper-order                      web-scraper-start-url  \\\n",
       "0   1647935913-3904  https://www.toilet.org.sg/loomapdirectory   \n",
       "1   1647935913-3874  https://www.toilet.org.sg/loomapdirectory   \n",
       "2   1647935913-3895  https://www.toilet.org.sg/loomapdirectory   \n",
       "3   1647935913-3641  https://www.toilet.org.sg/loomapdirectory   \n",
       "4   1647935913-3857  https://www.toilet.org.sg/loomapdirectory   \n",
       "\n",
       "              type                     image_link  \\\n",
       "0        Dormitory  Unison Construction Dormitory   \n",
       "1      MRT Station             Dakota MRT Station   \n",
       "2  Bus Interchange   Bukit  Batok Bus Interchange   \n",
       "3  Bus Interchange      Harbourfront Bus Terminal   \n",
       "4  Shopping Centre                    Vista Point   \n",
       "\n",
       "                                     image_link-href  \\\n",
       "0  https://www.toilet.org.sg/gallery/201/5-star-t...   \n",
       "1  https://www.toilet.org.sg/gallery/143/4-star-t...   \n",
       "2  https://www.toilet.org.sg/gallery/397/5-star-t...   \n",
       "3  https://www.toilet.org.sg/gallery/302/4-star-t...   \n",
       "4  https://www.toilet.org.sg/gallery/127/3-star-t...   \n",
       "\n",
       "                                               award  \\\n",
       "0  <font color=\"#F7C709\"><i class=\"fa fa-star\"></...   \n",
       "1  <font color=\"#F7C709\"><i class=\"fa fa-star\"></...   \n",
       "2  <font color=\"#F7C709\"><i class=\"fa fa-star\"></...   \n",
       "3  <font color=\"#F7C709\"><i class=\"fa fa-star\"></...   \n",
       "4  <font color=\"#F7C709\"><i class=\"fa fa-star\"></...   \n",
       "\n",
       "                                 address                    toilet_name  \\\n",
       "0           6 Tuas Basin Link, S(638760)  Unison Construction Dormitory   \n",
       "1            201 Airport Road, S(397973)             Dakota MRT Station   \n",
       "2     631 Bukit Batok Central, S(650631)   Bukit  Batok Bus Interchange   \n",
       "3              4 Seah Im Road, S(099115)      Harbourfront Bus Terminal   \n",
       "4  Blk 548 Woodlands Drive 44, S(730548)                    Vista Point   \n",
       "\n",
       "         district_name  \n",
       "0  South West District  \n",
       "1  South East District  \n",
       "2  South West District  \n",
       "3     Central District  \n",
       "4  North West District  "
      ]
     },
     "execution_count": 4,
     "metadata": {},
     "output_type": "execute_result"
    }
   ],
   "source": [
    "toilet = pd.read_csv(\"toilet_scraped_final.csv\")\n",
    "toilet.head()"
   ]
  },
  {
   "cell_type": "code",
   "execution_count": 5,
   "metadata": {},
   "outputs": [
    {
     "name": "stdout",
     "output_type": "stream",
     "text": [
      "<class 'pandas.core.frame.DataFrame'>\n",
      "RangeIndex: 322 entries, 0 to 321\n",
      "Data columns (total 9 columns):\n",
      " #   Column                 Non-Null Count  Dtype \n",
      "---  ------                 --------------  ----- \n",
      " 0   web-scraper-order      322 non-null    object\n",
      " 1   web-scraper-start-url  322 non-null    object\n",
      " 2   type                   322 non-null    object\n",
      " 3   image_link             315 non-null    object\n",
      " 4   image_link-href        315 non-null    object\n",
      " 5   award                  322 non-null    object\n",
      " 6   address                322 non-null    object\n",
      " 7   toilet_name            322 non-null    object\n",
      " 8   district_name          322 non-null    object\n",
      "dtypes: object(9)\n",
      "memory usage: 22.8+ KB\n"
     ]
    }
   ],
   "source": [
    "toilet.info()\n",
    "# 7 toilets no image link"
   ]
  },
  {
   "cell_type": "code",
   "execution_count": 7,
   "metadata": {},
   "outputs": [
    {
     "data": {
      "text/plain": [
       "array(['South West District', 'South East District', 'Central District',\n",
       "       'North West District', 'North East District'], dtype=object)"
      ]
     },
     "execution_count": 7,
     "metadata": {},
     "output_type": "execute_result"
    }
   ],
   "source": [
    "toilet['district_name'].unique()"
   ]
  },
  {
   "cell_type": "code",
   "execution_count": null,
   "metadata": {},
   "outputs": [],
   "source": [
    "def count_star(html):\n",
    "    return html.count(\"fa fa-star\")\n",
    "\n"
   ]
  },
  {
   "cell_type": "code",
   "execution_count": 8,
   "metadata": {},
   "outputs": [
    {
     "data": {
      "text/html": [
       "<div>\n",
       "<style scoped>\n",
       "    .dataframe tbody tr th:only-of-type {\n",
       "        vertical-align: middle;\n",
       "    }\n",
       "\n",
       "    .dataframe tbody tr th {\n",
       "        vertical-align: top;\n",
       "    }\n",
       "\n",
       "    .dataframe thead th {\n",
       "        text-align: right;\n",
       "    }\n",
       "</style>\n",
       "<table border=\"1\" class=\"dataframe\">\n",
       "  <thead>\n",
       "    <tr style=\"text-align: right;\">\n",
       "      <th></th>\n",
       "      <th>type</th>\n",
       "      <th>image_link-href</th>\n",
       "      <th>award</th>\n",
       "      <th>address</th>\n",
       "      <th>toilet_name</th>\n",
       "      <th>district_name</th>\n",
       "    </tr>\n",
       "  </thead>\n",
       "  <tbody>\n",
       "    <tr>\n",
       "      <th>0</th>\n",
       "      <td>Dormitory</td>\n",
       "      <td>https://www.toilet.org.sg/gallery/201/5-star-t...</td>\n",
       "      <td>&lt;font color=\"#F7C709\"&gt;&lt;i class=\"fa fa-star\"&gt;&lt;/...</td>\n",
       "      <td>6 Tuas Basin Link, S(638760)</td>\n",
       "      <td>Unison Construction Dormitory</td>\n",
       "      <td>South West District</td>\n",
       "    </tr>\n",
       "    <tr>\n",
       "      <th>1</th>\n",
       "      <td>MRT Station</td>\n",
       "      <td>https://www.toilet.org.sg/gallery/143/4-star-t...</td>\n",
       "      <td>&lt;font color=\"#F7C709\"&gt;&lt;i class=\"fa fa-star\"&gt;&lt;/...</td>\n",
       "      <td>201 Airport Road, S(397973)</td>\n",
       "      <td>Dakota MRT Station</td>\n",
       "      <td>South East District</td>\n",
       "    </tr>\n",
       "    <tr>\n",
       "      <th>2</th>\n",
       "      <td>Bus Interchange</td>\n",
       "      <td>https://www.toilet.org.sg/gallery/397/5-star-t...</td>\n",
       "      <td>&lt;font color=\"#F7C709\"&gt;&lt;i class=\"fa fa-star\"&gt;&lt;/...</td>\n",
       "      <td>631 Bukit Batok Central, S(650631)</td>\n",
       "      <td>Bukit  Batok Bus Interchange</td>\n",
       "      <td>South West District</td>\n",
       "    </tr>\n",
       "    <tr>\n",
       "      <th>3</th>\n",
       "      <td>Bus Interchange</td>\n",
       "      <td>https://www.toilet.org.sg/gallery/302/4-star-t...</td>\n",
       "      <td>&lt;font color=\"#F7C709\"&gt;&lt;i class=\"fa fa-star\"&gt;&lt;/...</td>\n",
       "      <td>4 Seah Im Road, S(099115)</td>\n",
       "      <td>Harbourfront Bus Terminal</td>\n",
       "      <td>Central District</td>\n",
       "    </tr>\n",
       "    <tr>\n",
       "      <th>4</th>\n",
       "      <td>Shopping Centre</td>\n",
       "      <td>https://www.toilet.org.sg/gallery/127/3-star-t...</td>\n",
       "      <td>&lt;font color=\"#F7C709\"&gt;&lt;i class=\"fa fa-star\"&gt;&lt;/...</td>\n",
       "      <td>Blk 548 Woodlands Drive 44, S(730548)</td>\n",
       "      <td>Vista Point</td>\n",
       "      <td>North West District</td>\n",
       "    </tr>\n",
       "  </tbody>\n",
       "</table>\n",
       "</div>"
      ],
      "text/plain": [
       "              type                                    image_link-href  \\\n",
       "0        Dormitory  https://www.toilet.org.sg/gallery/201/5-star-t...   \n",
       "1      MRT Station  https://www.toilet.org.sg/gallery/143/4-star-t...   \n",
       "2  Bus Interchange  https://www.toilet.org.sg/gallery/397/5-star-t...   \n",
       "3  Bus Interchange  https://www.toilet.org.sg/gallery/302/4-star-t...   \n",
       "4  Shopping Centre  https://www.toilet.org.sg/gallery/127/3-star-t...   \n",
       "\n",
       "                                               award  \\\n",
       "0  <font color=\"#F7C709\"><i class=\"fa fa-star\"></...   \n",
       "1  <font color=\"#F7C709\"><i class=\"fa fa-star\"></...   \n",
       "2  <font color=\"#F7C709\"><i class=\"fa fa-star\"></...   \n",
       "3  <font color=\"#F7C709\"><i class=\"fa fa-star\"></...   \n",
       "4  <font color=\"#F7C709\"><i class=\"fa fa-star\"></...   \n",
       "\n",
       "                                 address                    toilet_name  \\\n",
       "0           6 Tuas Basin Link, S(638760)  Unison Construction Dormitory   \n",
       "1            201 Airport Road, S(397973)             Dakota MRT Station   \n",
       "2     631 Bukit Batok Central, S(650631)   Bukit  Batok Bus Interchange   \n",
       "3              4 Seah Im Road, S(099115)      Harbourfront Bus Terminal   \n",
       "4  Blk 548 Woodlands Drive 44, S(730548)                    Vista Point   \n",
       "\n",
       "         district_name  \n",
       "0  South West District  \n",
       "1  South East District  \n",
       "2  South West District  \n",
       "3     Central District  \n",
       "4  North West District  "
      ]
     },
     "execution_count": 8,
     "metadata": {},
     "output_type": "execute_result"
    }
   ],
   "source": [
    "toilet_useful_col = toilet.drop(columns = ['web-scraper-order', 'web-scraper-start-url', 'image_link'])\n",
    "toilet_useful_col.head()"
   ]
  },
  {
   "cell_type": "code",
   "execution_count": 9,
   "metadata": {},
   "outputs": [],
   "source": [
    "toilet_useful_col.to_json(\"pandas_to_json.json\")"
   ]
  },
  {
   "cell_type": "code",
   "execution_count": null,
   "metadata": {},
   "outputs": [],
   "source": []
  }
 ],
 "metadata": {
  "interpreter": {
   "hash": "2271824c54c3fb6f7766971e8f87971d31b4b7f0a4c3af8ec8c84d0b475d68e2"
  },
  "kernelspec": {
   "display_name": "Python 3.8.8 ('base')",
   "language": "python",
   "name": "python3"
  },
  "language_info": {
   "codemirror_mode": {
    "name": "ipython",
    "version": 3
   },
   "file_extension": ".py",
   "mimetype": "text/x-python",
   "name": "python",
   "nbconvert_exporter": "python",
   "pygments_lexer": "ipython3",
   "version": "3.8.8"
  },
  "orig_nbformat": 4
 },
 "nbformat": 4,
 "nbformat_minor": 2
}
